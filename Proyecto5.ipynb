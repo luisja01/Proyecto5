{
 "cells": [
  {
   "cell_type": "markdown",
   "id": "1bda317f",
   "metadata": {},
   "source": [
    "---\n",
    "### Universidad de Costa Rica\n",
    "#### IE0405 - Modelos Probabilísticos de Señales y Sistemas\n",
    "---\n",
    "\n",
    "- Estudiante: **Luis Javier Herrera Barrantes**\n",
    "- Carné: **B93840**\n",
    "- Estudiantes: **Martin Sander Hangen**\n",
    "- Carné: **B97333**\n",
    "\n",
    "\n",
    "# *Proyecto 5 Procesos M/M/s*"
   ]
  },
  {
   "cell_type": "markdown",
   "id": "bd2d7887",
   "metadata": {},
   "source": [
    "### Parte 1 (40%)\n",
    "\n",
    ">#### Hacer la determinación teórica del número  𝑠  de servidores necesarios para cumplir el requisito."
   ]
  },
  {
   "cell_type": "code",
   "execution_count": 35,
   "id": "97dcd371",
   "metadata": {},
   "outputs": [],
   "source": [
    "import math\n",
    "\n",
    "# phi_0\n",
    "def phi_0(s, p):\n",
    "    suma = 0 \n",
    "    # Se realiza primero una sumatoria\n",
    "    for k in range(0, s):  # Rango de 0 a s-1\n",
    "        suma+= ((s*p)**k)/(math.factorial(k))\n",
    "\n",
    "    suma+= ((s*p)**s)/((math.factorial(s))*(1-p)) \n",
    "    suma = suma**-1\n",
    "    return suma \n"
   ]
  },
  {
   "cell_type": "code",
   "execution_count": 36,
   "id": "60a26b96",
   "metadata": {},
   "outputs": [],
   "source": [
    "#Funciones para calcular porbabilidad phi_i\n",
    "\n",
    "def phi_i_min(i, s, p, phi_0):  # phi_i para i < s\n",
    "    formula = (((s*p)**i)/(math.factorial(i)))*phi_0\n",
    "    return formula\n",
    "\n",
    "def phi_i_max(i, s, p, phi_0):  # philetra _i para i > s\n",
    "    formula = (((s**s)*(p**i))/(math.factorial(s)))*phi_0\n",
    "    return formula"
   ]
  },
  {
   "cell_type": "code",
   "execution_count": 37,
   "id": "b22fbde1",
   "metadata": {},
   "outputs": [
    {
     "name": "stdout",
     "output_type": "stream",
     "text": [
      "La probabilidad de tener una cantidad mayor a 50 personas en fila con 17 servidores es de 3.35 %\n"
     ]
    }
   ],
   "source": [
    "# Cálculo de probabilidad\n",
    "\n",
    "# Cantidad de servidores\n",
    "s = 17\n",
    "#Tasa de llegada lambda\n",
    "lmbda = 4\n",
    "#Tasa de salida v\n",
    "v = 0.25\n",
    "p = lmbda/(v*s)\n",
    "prob_menos_50 = 0\n",
    "n = 50+s\n",
    "for i in range(n+1):\n",
    "    # Calcular probabilidad de que hayan 50 personas en fila\n",
    "    if (i < s):\n",
    "        prob_menos_50+= phi_i_min(i, s, p, phi_0(s,p))\n",
    "    if (i >= s):\n",
    "        prob_menos_50+= phi_i_max(i, s, p, phi_0(s,p))\n",
    "\n",
    "# Probabilidad de que hayan 50 o más clientes en fila\n",
    "prob_mas_50 = (1-prob_menos_50)*100\n",
    "print(\"La probabilidad de tener una cantidad mayor a 50 personas en fila con %.d servidores es de %.2f %%\" %(s,prob_mas_50))"
   ]
  },
  {
   "cell_type": "markdown",
   "id": "16791b05",
   "metadata": {},
   "source": [
    "Con los cálculos anteriormente realizados se puede afirmar que con una cantidad de 17 servidores la probobabilidad de tener una cantidad mayor a 50 personas es menor al 5% por lo cual se procede a realizar la siguiente parte con este dato. "
   ]
  },
  {
   "cell_type": "markdown",
   "id": "4efa5a46",
   "metadata": {},
   "source": [
    "### Parte 2 (60%)\n",
    "\n",
    ">#### Modificar el código provisto para simular y corroborar el resultado anterior y crear al menos dos gráficas que muestren esta simulación."
   ]
  },
  {
   "cell_type": "code",
   "execution_count": 45,
   "id": "110208d9",
   "metadata": {},
   "outputs": [],
   "source": [
    "import numpy as np\n",
    "from scipy import stats\n",
    "import matplotlib.pyplot as plt\n",
    "\n",
    "def simu(N, lam, nu, s):\n",
    "\n",
    "\n",
    "    # Distribución de los tiempos de llegada entre cada cliente\n",
    "    X = stats.expon(scale = 1/lam)\n",
    "\n",
    "    # Distribución de los tiempos de servicio a cada cliente\n",
    "    Y = stats.expon(scale = 1/(nu))\n",
    "\n",
    "    # Intervalos entre llegadas (segundos desde último cliente)\n",
    "    t_intervalos = np.ceil(X.rvs(N)).astype('int')\n",
    "\n",
    "    # Tiempos de las llegadas (segundos desde el inicio)\n",
    "    t_llegadas = [t_intervalos[0]]\n",
    "    for i in range(1, len(t_intervalos)):\n",
    "        siguiente = t_llegadas[i-1] + t_intervalos[i]\n",
    "        t_llegadas.append(siguiente)\n",
    "\n",
    "    # Tiempos de servicio (segundos desde inicio de servicio)\n",
    "    t_servicio = np.ceil(Y.rvs(N)).astype('int')\n",
    "    \n",
    "\n",
    "    # Inicialización del tiempo de inicio y fin de atención\n",
    "    inicio = t_llegadas[0]          # primera llegada\n",
    "    fin = inicio + t_servicio[0]    # primera salida\n",
    "    \n",
    "    #Vector para guardar los tiempos del fin de servicio \n",
    "    servidores = np.zeros(s)\n",
    "    \n",
    "    #Primer cliente\n",
    "    servidores [0] = fin \n",
    "    \n",
    "    # Tiempos en que recibe atención cada i-ésimo cliente (!= que llega)\n",
    "    t_atencion = [inicio]\n",
    "    \n",
    "    \n",
    "    for i in range(1, N):\n",
    "        \n",
    "        desocupados = np.where(servidores <= t_llegadas[i]) # recorre los servidores que están desocupados \n",
    "        \n",
    "        if  len(desocupados[0]) == 0:\n",
    "            inicio = np.min(servidores) + 1\n",
    "            fin = inicio + t_servicio[i]\n",
    "            \n",
    "        else:\n",
    "            inicio = t_llegadas[i]\n",
    "            fin = inicio + t_servicio[i]\n",
    "        \n",
    "        j = servidores.tolist().index(np.min(servidores))\n",
    "        servidores[j] = fin \n",
    "        t_atencion.append(inicio.astype(int))\n",
    "\n",
    "    # Inicialización del vector temporal para registrar eventos\n",
    "    t = np.zeros(t_atencion[-1] + max(t_servicio) + 1)\n",
    "\n",
    "    # Asignación de eventos de llegada (+1) y salida (-1) de clientes\n",
    "    for c in range(N):\n",
    "        i = t_llegadas[c]\n",
    "        t[i] += 1\n",
    "        j = t_atencion[c] + t_servicio[c]\n",
    "        t[j] -= 1\n",
    "\n",
    "    # Umbral de P o más personas en sistema (hay P - 1 en fila)\n",
    "    P = 50+s+1\n",
    "\n",
    "    # Instantes (segundos) de tiempo con P o más solicitudes en sistema\n",
    "    exceso = 0\n",
    "\n",
    "    # Proceso aleatorio (estados n = {0, 1, 2...})\n",
    "    Xt = np.zeros(t.shape)\n",
    "\n",
    "    # Inicialización de estado n\n",
    "    n = 0\n",
    "\n",
    "    # Recorrido del vector temporal y conteo de clientes (estado n)\n",
    "    for i, c in enumerate(t):\n",
    "        n += c # sumar (+1) o restar (-1) al estado\n",
    "        Xt[i] = n\n",
    "        if Xt[i] >= P: \n",
    "            exceso += 1\n",
    "\n",
    "    # Fracción de tiempo con P o más solicitudes en sistema\n",
    "    fraccion = exceso / len(t)\n",
    "\n",
    "    # Resultados\n",
    "    print('Parámetro lambda =', str(lam*60))\n",
    "    print('Parámetro nu =', str(nu*60))\n",
    "    print('Cantidad de servidores =', str(s))\n",
    "    print('Tiempo con más de {} solicitudes en fila:'.format(P-1))\n",
    "    print('\\t {:0.2f}%'.format(100*fraccion))\n",
    "    \n",
    "    if fraccion <= 0.05:\n",
    "        print('\\t Sí cumple con la especificación.')\n",
    "    else:\n",
    "        print('\\t No cumple con la especificación.') \n",
    "    print('Simulación es equivalente a {:0.2f} horas.'.format(len(t)/3600))\n",
    "\n",
    "    # Gráfica de X(t) (estados del sistema)\n",
    "    plt.figure()\n",
    "    plt.plot(Xt)\n",
    "    plt.plot(range(len(t)), (P-1)*np.ones(t.shape))\n",
    "    plt.legend(('$X(t) = n$', '$L_q = $' + str(P-1)))\n",
    "    plt.ylabel('Clientes en el sistema, $n$')\n",
    "    plt.xlabel('Tiempo, $t$ / segundos')\n",
    "    plt.xlim((0, 15000))\n",
    "    plt.show()"
   ]
  },
  {
   "cell_type": "code",
   "execution_count": 46,
   "id": "c8c1e38d",
   "metadata": {},
   "outputs": [
    {
     "name": "stdout",
     "output_type": "stream",
     "text": [
      "Parámetro lambda = 4.0\n",
      "Parámetro nu = 0.25\n",
      "Cantidad de servidores = 16\n",
      "Tiempo con más de 66 solicitudes en fila:\n",
      "\t 36.54%\n",
      "\t No cumple con la especificación.\n",
      "Simulación es equivalente a 17.96 horas.\n"
     ]
    },
    {
     "data": {
      "image/png": "[encoded data removed]",
      "text/plain": [
       "<Figure size 432x288 with 1 Axes>"
      ]
     },
     "metadata": {
      "needs_background": "light"
     },
     "output_type": "display_data"
    }
   ],
   "source": [
    "# Simulación con s=16\n",
    "simu(4000, (4/60), (0.25/60), 16)"
   ]
  },
  {
   "cell_type": "code",
   "execution_count": 48,
   "id": "c04b406c",
   "metadata": {},
   "outputs": [
    {
     "name": "stdout",
     "output_type": "stream",
     "text": [
      "Parámetro lambda = 4.0\n",
      "Parámetro nu = 0.25\n",
      "Cantidad de servidores = 17\n",
      "Tiempo con más de 67 solicitudes en fila:\n",
      "\t 0.00%\n",
      "\t Sí cumple con la especificación.\n",
      "Simulación es equivalente a 17.81 horas.\n"
     ]
    },
    {
     "data": {
      "image/png": "[encoded data removed]",
      "text/plain": [
       "<Figure size 432x288 with 1 Axes>"
      ]
     },
     "metadata": {
      "needs_background": "light"
     },
     "output_type": "display_data"
    }
   ],
   "source": [
    "# Simulación con s=17\n",
    "simu(4000, (4/60), (0.25/60), 17)"
   ]
  }
 ],
 "metadata": {
  "kernelspec": {
   "display_name": "Python 3",
   "language": "python",
   "name": "python3"
  },
  "language_info": {
   "codemirror_mode": {
    "name": "ipython",
    "version": 3
   },
   "file_extension": ".py",
   "mimetype": "text/x-python",
   "name": "python",
   "nbconvert_exporter": "python",
   "pygments_lexer": "ipython3",
   "version": "3.8.8"
  }
 },
 "nbformat": 4,
 "nbformat_minor": 5
}
